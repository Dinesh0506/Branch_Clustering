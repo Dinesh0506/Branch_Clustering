{
 "cells": [
  {
   "cell_type": "code",
   "execution_count": null,
   "id": "7d8680e9",
   "metadata": {},
   "outputs": [],
   "source": [
    "#importing the library \n",
    "import numpy as np\n",
    "import matplotlib.pyplot as plt\n",
    "import pandas as pd"
   ]
  },
  {
   "cell_type": "code",
   "execution_count": null,
   "id": "52211fac",
   "metadata": {},
   "outputs": [],
   "source": [
    "#reading the data from csv file using pandas\n",
    "dataset=pd.read_csv('Mall_Customers.csv')"
   ]
  },
  {
   "cell_type": "code",
   "execution_count": null,
   "id": "5872ec4f",
   "metadata": {},
   "outputs": [],
   "source": [
    "#print the values \n",
    "dataset"
   ]
  },
  {
   "cell_type": "code",
   "execution_count": null,
   "id": "73b60443",
   "metadata": {},
   "outputs": [],
   "source": [
    "#with the values selcted full rows and selective columns\n",
    "x=dataset.iloc[:,3:5]\n",
    "x"
   ]
  },
  {
   "cell_type": "code",
   "execution_count": null,
   "id": "ec21f8fe",
   "metadata": {},
   "outputs": [],
   "source": [
    "#model Creation\n",
    "from sklearn.cluster import Birch\n",
    "clustermodel=Birch(n_clusters=3,branching_factor=50)\n",
    "label=clustermodel.fit_predict(x)"
   ]
  },
  {
   "cell_type": "code",
   "execution_count": null,
   "id": "a5ac95b5",
   "metadata": {},
   "outputs": [],
   "source": [
    "#assigning the values dataset to supervised \n",
    "supervised=dataset"
   ]
  },
  {
   "cell_type": "code",
   "execution_count": null,
   "id": "68b61d4d",
   "metadata": {},
   "outputs": [],
   "source": [
    "#to print the values of supervised\n",
    "supervised"
   ]
  },
  {
   "cell_type": "code",
   "execution_count": null,
   "id": "5033e6ca",
   "metadata": {},
   "outputs": [],
   "source": [
    "#append the clustered values on supervised table \n",
    "supervised['cluster_group']=label"
   ]
  },
  {
   "cell_type": "code",
   "execution_count": null,
   "id": "7f01063f",
   "metadata": {},
   "outputs": [],
   "source": [
    "#view the appended values on table\n",
    "supervised"
   ]
  },
  {
   "cell_type": "code",
   "execution_count": null,
   "id": "b020f830",
   "metadata": {},
   "outputs": [],
   "source": [
    "#to save the table of content to csv file\n",
    "supervised.to_csv(\"cluster\",index=False)"
   ]
  },
  {
   "cell_type": "code",
   "execution_count": null,
   "id": "3e92d2a9",
   "metadata": {},
   "outputs": [],
   "source": [
    "#to plot the cluster in graph, in this hue use for difference of cluster,\n",
    "#fit_reg for plot the coorect manner\n",
    "import seaborn as sns\n",
    "facet=sns.lmplot(data=supervised,x=supervised.columns[3],y=supervised.columns[4],\n",
    "                 fit_reg=False,hue=supervised.columns[5],legend=True,legend_out=True)"
   ]
  }
 ],
 "metadata": {
  "kernelspec": {
   "display_name": "Python 3 (ipykernel)",
   "language": "python",
   "name": "python3"
  },
  "language_info": {
   "codemirror_mode": {
    "name": "ipython",
    "version": 3
   },
   "file_extension": ".py",
   "mimetype": "text/x-python",
   "name": "python",
   "nbconvert_exporter": "python",
   "pygments_lexer": "ipython3",
   "version": "3.9.13"
  }
 },
 "nbformat": 4,
 "nbformat_minor": 5
}
